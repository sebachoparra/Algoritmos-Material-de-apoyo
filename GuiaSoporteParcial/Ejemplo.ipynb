{
  "nbformat": 4,
  "nbformat_minor": 0,
  "metadata": {
    "colab": {
      "provenance": [],
      "authorship_tag": "ABX9TyPPo0WvJ0Tao1O/M3o3wr9o",
      "include_colab_link": true
    },
    "kernelspec": {
      "name": "python3",
      "display_name": "Python 3"
    },
    "language_info": {
      "name": "python"
    }
  },
  "cells": [
    {
      "cell_type": "markdown",
      "metadata": {
        "id": "view-in-github",
        "colab_type": "text"
      },
      "source": [
        "<a href=\"https://colab.research.google.com/github/sebachoparra/Algoritmos-Material-de-apoyo/blob/main/GuiaSoporteParcial/Ejemplo.ipynb\" target=\"_parent\"><img src=\"https://colab.research.google.com/assets/colab-badge.svg\" alt=\"Open In Colab\"/></a>"
      ]
    },
    {
      "cell_type": "markdown",
      "source": [
        "# Guía Paso a Paso: Uso de DataFrames, Funciones y Menú Interactivo en Google Colab\n"
      ],
      "metadata": {
        "id": "9JB4z3Q3mJwD"
      }
    },
    {
      "cell_type": "markdown",
      "source": [
        "###  1. Importación de Librerías\n",
        "Primero importamos la librería `pandas`, que es una de las herramientas más importantes para manipular tablas de datos (DataFrames) en Python.\n"
      ],
      "metadata": {
        "id": "QjLXoJYjnhtY"
      }
    },
    {
      "cell_type": "code",
      "source": [
        "import pandas as pd"
      ],
      "metadata": {
        "id": "hQXliuWvne6P"
      },
      "execution_count": null,
      "outputs": []
    },
    {
      "cell_type": "markdown",
      "source": [
        "###  2. Crear un DataFrame vacío\n",
        "Aquí vamos a crear una tabla sin datos iniciales, pero con las columnas `Nombre`, `Edad` y `Correo`.  \n",
        "Esto es donde iremos guardando los registros que el usuario agregue.\n",
        "**texto en negrita**"
      ],
      "metadata": {
        "id": "qiLwVvrknmDK"
      }
    },
    {
      "cell_type": "code",
      "source": [
        "# Creamos el DataFrame vacío\n",
        "df = pd.DataFrame(columns=['Nombre', 'Edad', 'Correo'])\n",
        "# Creamos un DataFrame vacío con columnas llamadas 'Nombre', 'Edad' y 'Correo'\n",
        "# Por ahora, no tiene filas; se irán agregando después\n",
        "print(df)"
      ],
      "metadata": {
        "colab": {
          "base_uri": "https://localhost:8080/"
        },
        "id": "e4H9NUTInmye",
        "outputId": "4836bf74-fe80-4021-fd4b-1af4eadb4472"
      },
      "execution_count": null,
      "outputs": [
        {
          "output_type": "stream",
          "name": "stdout",
          "text": [
            "Empty DataFrame\n",
            "Columns: [Nombre, Edad, Correo]\n",
            "Index: []\n"
          ]
        }
      ]
    },
    {
      "cell_type": "markdown",
      "source": [
        "###  3. Función para agregar un contacto\n",
        "Esta función:\n",
        "- Pide el nombre, edad y correo electrónico al usuario.\n",
        "- Crea un nuevo registro (fila) y lo añade al DataFrame.\n",
        "- Devuelve el DataFrame actualizado."
      ],
      "metadata": {
        "id": "1gcxw2GRnvOo"
      }
    },
    {
      "cell_type": "code",
      "source": [
        "def agregar_contacto(df):\n",
        "    # Definimos una función llamada agregar_contacto que recibe el DataFrame actual\n",
        "\n",
        "    nombre = input(\"Ingrese el nombre: \")\n",
        "    # Solicitamos al usuario que ingrese el nombre\n",
        "\n",
        "    edad = input(\"Ingrese la edad: \")\n",
        "    # Solicitamos al usuario que ingrese la edad\n",
        "\n",
        "    correo = input(\"Ingrese el correo: \")\n",
        "    # Solicitamos al usuario que ingrese el correo electrónico\n",
        "\n",
        "    nuevo = {'Nombre': nombre, 'Edad': edad, 'Correo': correo}\n",
        "    # Creamos un diccionario llamado 'nuevo' que almacena los datos recogidos\n",
        "\n",
        "    df = pd.concat([df, pd.DataFrame([nuevo])], ignore_index=True)\n",
        "    # Convertimos el diccionario a un DataFrame de una sola fila y lo concatenamos con el DataFrame existente\n",
        "    # 'ignore_index=True' reorganiza los índices para que queden consecutivos\n",
        "\n",
        "    print(\"Contacto agregado correctamente.\")\n",
        "    # Mensaje confirmando que el contacto fue agregado\n",
        "\n",
        "    return df\n",
        "    # Retornamos el DataFrame actualizado\n"
      ],
      "metadata": {
        "id": "1j47qRwinx5L"
      },
      "execution_count": null,
      "outputs": []
    },
    {
      "cell_type": "code",
      "source": [
        "agregar_contacto(df)"
      ],
      "metadata": {
        "colab": {
          "base_uri": "https://localhost:8080/",
          "height": 154
        },
        "id": "OyW94E1An1mT",
        "outputId": "f69a86a3-497f-474b-96c3-8938e2e11431"
      },
      "execution_count": null,
      "outputs": [
        {
          "output_type": "stream",
          "name": "stdout",
          "text": [
            "Ingrese el nombre: juan\n",
            "Ingrese la edad: 25\n",
            "Ingrese el correo: juan@gmail.com\n",
            " Contacto agregado correctamente.\n"
          ]
        },
        {
          "output_type": "execute_result",
          "data": {
            "text/plain": [
              "  Nombre Edad          Correo\n",
              "0   juan   25  juan@gmail.com"
            ],
            "text/html": [
              "\n",
              "  <div id=\"df-4f1f7e93-5cc1-4c4e-86b9-633b09c27831\" class=\"colab-df-container\">\n",
              "    <div>\n",
              "<style scoped>\n",
              "    .dataframe tbody tr th:only-of-type {\n",
              "        vertical-align: middle;\n",
              "    }\n",
              "\n",
              "    .dataframe tbody tr th {\n",
              "        vertical-align: top;\n",
              "    }\n",
              "\n",
              "    .dataframe thead th {\n",
              "        text-align: right;\n",
              "    }\n",
              "</style>\n",
              "<table border=\"1\" class=\"dataframe\">\n",
              "  <thead>\n",
              "    <tr style=\"text-align: right;\">\n",
              "      <th></th>\n",
              "      <th>Nombre</th>\n",
              "      <th>Edad</th>\n",
              "      <th>Correo</th>\n",
              "    </tr>\n",
              "  </thead>\n",
              "  <tbody>\n",
              "    <tr>\n",
              "      <th>0</th>\n",
              "      <td>juan</td>\n",
              "      <td>25</td>\n",
              "      <td>juan@gmail.com</td>\n",
              "    </tr>\n",
              "  </tbody>\n",
              "</table>\n",
              "</div>\n",
              "    <div class=\"colab-df-buttons\">\n",
              "\n",
              "  <div class=\"colab-df-container\">\n",
              "    <button class=\"colab-df-convert\" onclick=\"convertToInteractive('df-4f1f7e93-5cc1-4c4e-86b9-633b09c27831')\"\n",
              "            title=\"Convert this dataframe to an interactive table.\"\n",
              "            style=\"display:none;\">\n",
              "\n",
              "  <svg xmlns=\"http://www.w3.org/2000/svg\" height=\"24px\" viewBox=\"0 -960 960 960\">\n",
              "    <path d=\"M120-120v-720h720v720H120Zm60-500h600v-160H180v160Zm220 220h160v-160H400v160Zm0 220h160v-160H400v160ZM180-400h160v-160H180v160Zm440 0h160v-160H620v160ZM180-180h160v-160H180v160Zm440 0h160v-160H620v160Z\"/>\n",
              "  </svg>\n",
              "    </button>\n",
              "\n",
              "  <style>\n",
              "    .colab-df-container {\n",
              "      display:flex;\n",
              "      gap: 12px;\n",
              "    }\n",
              "\n",
              "    .colab-df-convert {\n",
              "      background-color: #E8F0FE;\n",
              "      border: none;\n",
              "      border-radius: 50%;\n",
              "      cursor: pointer;\n",
              "      display: none;\n",
              "      fill: #1967D2;\n",
              "      height: 32px;\n",
              "      padding: 0 0 0 0;\n",
              "      width: 32px;\n",
              "    }\n",
              "\n",
              "    .colab-df-convert:hover {\n",
              "      background-color: #E2EBFA;\n",
              "      box-shadow: 0px 1px 2px rgba(60, 64, 67, 0.3), 0px 1px 3px 1px rgba(60, 64, 67, 0.15);\n",
              "      fill: #174EA6;\n",
              "    }\n",
              "\n",
              "    .colab-df-buttons div {\n",
              "      margin-bottom: 4px;\n",
              "    }\n",
              "\n",
              "    [theme=dark] .colab-df-convert {\n",
              "      background-color: #3B4455;\n",
              "      fill: #D2E3FC;\n",
              "    }\n",
              "\n",
              "    [theme=dark] .colab-df-convert:hover {\n",
              "      background-color: #434B5C;\n",
              "      box-shadow: 0px 1px 3px 1px rgba(0, 0, 0, 0.15);\n",
              "      filter: drop-shadow(0px 1px 2px rgba(0, 0, 0, 0.3));\n",
              "      fill: #FFFFFF;\n",
              "    }\n",
              "  </style>\n",
              "\n",
              "    <script>\n",
              "      const buttonEl =\n",
              "        document.querySelector('#df-4f1f7e93-5cc1-4c4e-86b9-633b09c27831 button.colab-df-convert');\n",
              "      buttonEl.style.display =\n",
              "        google.colab.kernel.accessAllowed ? 'block' : 'none';\n",
              "\n",
              "      async function convertToInteractive(key) {\n",
              "        const element = document.querySelector('#df-4f1f7e93-5cc1-4c4e-86b9-633b09c27831');\n",
              "        const dataTable =\n",
              "          await google.colab.kernel.invokeFunction('convertToInteractive',\n",
              "                                                    [key], {});\n",
              "        if (!dataTable) return;\n",
              "\n",
              "        const docLinkHtml = 'Like what you see? Visit the ' +\n",
              "          '<a target=\"_blank\" href=https://colab.research.google.com/notebooks/data_table.ipynb>data table notebook</a>'\n",
              "          + ' to learn more about interactive tables.';\n",
              "        element.innerHTML = '';\n",
              "        dataTable['output_type'] = 'display_data';\n",
              "        await google.colab.output.renderOutput(dataTable, element);\n",
              "        const docLink = document.createElement('div');\n",
              "        docLink.innerHTML = docLinkHtml;\n",
              "        element.appendChild(docLink);\n",
              "      }\n",
              "    </script>\n",
              "  </div>\n",
              "\n",
              "\n",
              "    </div>\n",
              "  </div>\n"
            ],
            "application/vnd.google.colaboratory.intrinsic+json": {
              "type": "dataframe",
              "summary": "{\n  \"name\": \"agregar_contacto(df)\",\n  \"rows\": 1,\n  \"fields\": [\n    {\n      \"column\": \"Nombre\",\n      \"properties\": {\n        \"dtype\": \"string\",\n        \"num_unique_values\": 1,\n        \"samples\": [\n          \"juan\"\n        ],\n        \"semantic_type\": \"\",\n        \"description\": \"\"\n      }\n    },\n    {\n      \"column\": \"Edad\",\n      \"properties\": {\n        \"dtype\": \"string\",\n        \"num_unique_values\": 1,\n        \"samples\": [\n          \"25\"\n        ],\n        \"semantic_type\": \"\",\n        \"description\": \"\"\n      }\n    },\n    {\n      \"column\": \"Correo\",\n      \"properties\": {\n        \"dtype\": \"string\",\n        \"num_unique_values\": 1,\n        \"samples\": [\n          \"juan@gmail.com\"\n        ],\n        \"semantic_type\": \"\",\n        \"description\": \"\"\n      }\n    }\n  ]\n}"
            }
          },
          "metadata": {},
          "execution_count": 11
        }
      ]
    },
    {
      "cell_type": "markdown",
      "source": [
        "### 4. Función para mostrar todos los contactos\n",
        "Esta función:\n",
        "- Revisa si la tabla está vacía.\n",
        "- Si hay registros, los muestra de forma tabulada en Colab.\n",
        "- Si no hay registros, muestra un mensaje."
      ],
      "metadata": {
        "id": "h465syplo1OI"
      }
    },
    {
      "cell_type": "code",
      "source": [
        "def mostrar_contactos(df):\n",
        "    # Definimos la función mostrar_contactos que recibe el DataFrame\n",
        "\n",
        "    if df.empty:\n",
        "        # Comprobamos si el DataFrame está vacío usando el atributo .empty\n",
        "        print(\"No hay contactos registrados.\")\n",
        "        # Si está vacío, mostramos un mensaje indicando que no hay registros\n",
        "    else:\n",
        "        display(df)\n",
        "        # Si hay datos, los mostramos de manera tabulada usando display() para una mejor visualización en Colab\n"
      ],
      "metadata": {
        "id": "fZl_xHRNok1s"
      },
      "execution_count": null,
      "outputs": []
    },
    {
      "cell_type": "code",
      "source": [
        "mostrar_contactos(df)"
      ],
      "metadata": {
        "colab": {
          "base_uri": "https://localhost:8080/"
        },
        "id": "vHWP8dRvonLg",
        "outputId": "743dd233-701d-41bb-f800-a44bcfcc1f5a"
      },
      "execution_count": null,
      "outputs": [
        {
          "output_type": "stream",
          "name": "stdout",
          "text": [
            "No hay contactos registrados.\n"
          ]
        }
      ]
    },
    {
      "cell_type": "markdown",
      "source": [
        "### 5. Función para buscar un contacto por nombre\n",
        "Esta función:\n",
        "- Solicita un nombre o parte del nombre.\n",
        "- Filtra el DataFrame buscando coincidencias sin importar mayúsculas/minúsculas.\n",
        "- Muestra los resultados si los encuentra, o avisa si no.\n"
      ],
      "metadata": {
        "id": "SXaTjXbAot7R"
      }
    },
    {
      "cell_type": "code",
      "source": [
        "def buscar_contacto(df):\n",
        "    # Definimos la función buscar_contacto que recibe el DataFrame\n",
        "\n",
        "    nombre = input(\"Ingrese el nombre a buscar: \")\n",
        "    # Pedimos al usuario que escriba el nombre (o parte del nombre) que desea buscar\n",
        "\n",
        "    resultado = df[df['Nombre'].str.contains(nombre, case=False, na=False)]\n",
        "    # Aquí filtramos el DataFrame:\n",
        "    # - df['Nombre'].str.contains(nombre) busca todas las filas donde la columna 'Nombre' contenga el texto buscado\n",
        "    # - case=False ignora mayúsculas/minúsculas\n",
        "    # - na=False evita errores si hay valores vacíos\n",
        "\n",
        "    if resultado.empty:\n",
        "        # Si no se encuentran resultados\n",
        "        print(\"No se encontró ningún contacto.\")\n",
        "        # Mostramos un mensaje indicando que no hubo coincidencias\n",
        "    else:\n",
        "        display(resultado)\n",
        "        # Si hay resultados, se muestran en formato de tabla\n"
      ],
      "metadata": {
        "id": "4V1zxteFotdY"
      },
      "execution_count": null,
      "outputs": []
    },
    {
      "cell_type": "markdown",
      "source": [
        "\n",
        "### 6. Función para eliminar un contacto\n",
        "Esta función:\n",
        "\n",
        "- Solicita un nombre o parte del nombre del contacto a eliminar.\n",
        "- Muestra una tabla con los posibles resultados encontrados.\n",
        "- Pide al usuario que ingrese el índice exacto del contacto que desea eliminar (visible en la tabla).\n",
        "- Elimina ese contacto específico del DataFrame y reorganiza los índices.\n",
        "- Si no encuentra coincidencias o el índice es inválido, muestra un mensaje de advertencia."
      ],
      "metadata": {
        "id": "dcCrUYCGrGy7"
      }
    },
    {
      "cell_type": "code",
      "source": [
        "def eliminar_contacto(df):\n",
        "    # Definimos la función eliminar_contacto que recibe el DataFrame\n",
        "\n",
        "    nombre = input(\"Ingrese el nombre del contacto que desea eliminar: \")\n",
        "    # Pedimos al usuario el nombre del contacto que quiere eliminar\n",
        "\n",
        "    resultado = df[df['Nombre'].str.contains(nombre, case=False, na=False)]\n",
        "    # Buscamos todos los contactos que coincidan con ese nombre o parte del nombre\n",
        "\n",
        "    if resultado.empty:\n",
        "        # Si no hay coincidencias\n",
        "        print(\" No se encontró ningún contacto con ese nombre.\")\n",
        "    else:\n",
        "        display(resultado)\n",
        "        # Mostramos las coincidencias encontradas\n",
        "\n",
        "        index_a_eliminar = input(\"Ingrese el índice del contacto a eliminar (ver columna izquierda): \")\n",
        "        # Pedimos al usuario que ingrese el índice exacto (que aparece en la tabla) del contacto que quiere eliminar\n",
        "\n",
        "        if index_a_eliminar.isdigit() and int(index_a_eliminar) in df.index:\n",
        "            # Verificamos que el índice ingresado sea un número y exista en el DataFrame\n",
        "            df = df.drop(int(index_a_eliminar))\n",
        "            # Eliminamos la fila del DataFrame usando drop()\n",
        "            df = df.reset_index(drop=True)\n",
        "            # Reiniciamos los índices para mantenerlos ordenados\n",
        "            print(\" Contacto eliminado exitosamente.\")\n",
        "        else:\n",
        "            print(\" Índice inválido.\")\n",
        "            # Si el índice no es válido, mostramos un mensaje de error\n",
        "\n",
        "    return df\n"
      ],
      "metadata": {
        "id": "Cg-l8zb8rHRT"
      },
      "execution_count": null,
      "outputs": []
    },
    {
      "cell_type": "markdown",
      "source": [
        "### 7. Función para editar un contacto\n",
        "Esta función:\n",
        "\n",
        "- Solicita un nombre o parte del nombre del contacto a editar.\n",
        "- Muestra todos los posibles contactos encontrados para que el usuario elija cuál editar.\n",
        "- Pide al usuario que indique el índice del contacto que desea modificar.\n",
        "- Permite cambiar el nombre, edad y correo (si el usuario deja el campo vacío, se mantiene el dato anterior).\n",
        "- Actualiza la información del contacto en el DataFrame y confirma la edición exitosa.\n",
        "- Si el índice es inválido o no hay coincidencias, informa al usuario."
      ],
      "metadata": {
        "id": "qrrdxBTArKij"
      }
    },
    {
      "cell_type": "code",
      "source": [
        "def editar_contacto(df):\n",
        "    # Definimos la función editar_contacto que recibe el DataFrame\n",
        "\n",
        "    nombre = input(\"Ingrese el nombre del contacto que desea editar: \")\n",
        "    # Pedimos al usuario el nombre (o parte del nombre) del contacto que desea modificar\n",
        "\n",
        "    resultado = df[df['Nombre'].str.contains(nombre, case=False, na=False)]\n",
        "    # Buscamos coincidencias en el DataFrame\n",
        "\n",
        "    if resultado.empty:\n",
        "        # Si no hay resultados\n",
        "        print(\"No se encontró ningún contacto con ese nombre.\")\n",
        "    else:\n",
        "        display(resultado)\n",
        "        # Mostramos los contactos encontrados\n",
        "\n",
        "        index_a_editar = input(\"Ingrese el índice del contacto a editar (ver columna izquierda): \")\n",
        "        # Pedimos el índice del contacto a editar\n",
        "\n",
        "        if index_a_editar.isdigit() and int(index_a_editar) in df.index:\n",
        "            # Verificamos que el índice ingresado sea válido\n",
        "\n",
        "            nuevo_nombre = input(\"Ingrese el nuevo nombre (o presione Enter para mantener el actual): \")\n",
        "            nueva_edad = input(\"Ingrese la nueva edad (o presione Enter para mantener la actual): \")\n",
        "            nuevo_correo = input(\"Ingrese el nuevo correo (o presione Enter para mantener el actual): \")\n",
        "            # Pedimos los nuevos datos, el usuario puede dejar vacío para no cambiar\n",
        "\n",
        "            if nuevo_nombre:\n",
        "                df.at[int(index_a_editar), 'Nombre'] = nuevo_nombre\n",
        "                # Actualizamos el campo 'Nombre' si se ingresó algo nuevo\n",
        "            if nueva_edad:\n",
        "                df.at[int(index_a_editar), 'Edad'] = nueva_edad\n",
        "                # Actualizamos la edad si se ingresó un nuevo valor\n",
        "            if nuevo_correo:\n",
        "                df.at[int(index_a_editar), 'Correo'] = nuevo_correo\n",
        "                # Actualizamos el correo si se ingresó un nuevo valor\n",
        "\n",
        "            print(\" Contacto editado exitosamente.\")\n",
        "        else:\n",
        "            print(\" Índice inválido.\")\n",
        "            # Si el índice es incorrecto, avisamos al usuario\n",
        "\n",
        "    return df\n"
      ],
      "metadata": {
        "id": "16OTreDdrJi9"
      },
      "execution_count": null,
      "outputs": []
    },
    {
      "cell_type": "markdown",
      "source": [
        "### 8. Explicación paso a paso de esta función:\n",
        "Esta función:\n",
        "\n",
        "- Pide al usuario el nombre con el que desea guardar el archivo (sin la extensión).\n",
        "- Le agrega automáticamente la extensión .csv.\n",
        "- Usa df.to_csv() para exportar todos los contactos registrados a un archivo CSV.\n",
        "- El parámetro index=False evita que se guarde el número de índice como una columna adicional.\n",
        "- Al finalizar, confirma con un mensaje que el archivo fue guardado exitosamente."
      ],
      "metadata": {
        "id": "rImZwX7rrJZU"
      }
    },
    {
      "cell_type": "code",
      "source": [
        "def guardar_contactos(df):\n",
        "    # Definimos una función llamada guardar_contactos que recibe el DataFrame\n",
        "\n",
        "    nombre_archivo = input(\"Ingrese el nombre del archivo (sin extensión): \")\n",
        "    # Pedimos al usuario que ingrese el nombre del archivo en el que desea guardar la información\n",
        "\n",
        "    nombre_archivo_completo = nombre_archivo + \".csv\"\n",
        "    # Le agregamos la extensión '.csv' para formar el nombre completo del archivo\n",
        "\n",
        "    df.to_csv(nombre_archivo_completo, index=False)\n",
        "    # Usamos el método .to_csv() para guardar el DataFrame como un archivo CSV\n",
        "    # index=False evita que se guarde la columna de índices\n",
        "\n",
        "    print(f\"✅ Los contactos han sido guardados en '{nombre_archivo_completo}'.\")\n",
        "    # Mostramos un mensaje indicando que el guardado fue exitoso\n"
      ],
      "metadata": {
        "id": "syhNcJvcuUL2"
      },
      "execution_count": null,
      "outputs": []
    },
    {
      "cell_type": "markdown",
      "source": [
        "### 9. Menú interactivo\n",
        "Aquí creamos un menú que se mostrará al usuario con opciones para:  \n",
        "- Agregar un contacto.  \n",
        "- Ver todos los contactos.  \n",
        "- Buscar un contacto.  \n",
        "- Salir del programa.  \n",
        "\n",
        "El menú funciona dentro de un bucle que solo termina cuando el usuario elige salir.\n"
      ],
      "metadata": {
        "id": "sKPinUPZo48s"
      }
    },
    {
      "cell_type": "code",
      "source": [
        "def menu():\n",
        "    global df\n",
        "    while True:\n",
        "        print(\"\\n --- MENÚ DE CONTACTOS ---\")\n",
        "        print(\"1️  Agregar contacto\")\n",
        "        print(\"2️  Ver todos los contactos\")\n",
        "        print(\"3️  Buscar contacto\")\n",
        "        print(\"4️  Eliminar contacto\")\n",
        "        print(\"5️  Editar contacto\")\n",
        "        print(\"6️  Salir\")\n",
        "\n",
        "        opcion = input(\"Seleccione una opción (1, 2, 3, 4, 5, 6, 7): \")\n",
        "\n",
        "        if opcion == '1':\n",
        "            df = agregar_contacto(df)\n",
        "        elif opcion == '2':\n",
        "            mostrar_contactos(df)\n",
        "        elif opcion == '3':\n",
        "            buscar_contacto(df)\n",
        "        elif opcion == '4':\n",
        "            df = eliminar_contacto(df)\n",
        "        elif opcion == '5':\n",
        "            df = editar_contacto(df)\n",
        "        elif opcion == '6':\n",
        "            guardar_contactos(df)\n",
        "        elif opcion == '7':\n",
        "            print(\" ¡Gracias por usar la agenda!\")\n",
        "            break\n",
        "        else:\n",
        "            print(\" Opción inválida, por favor intente de nuevo.\")\n"
      ],
      "metadata": {
        "id": "0zCHOHHXo6LL"
      },
      "execution_count": null,
      "outputs": []
    },
    {
      "cell_type": "markdown",
      "source": [
        "###  10. Ejecutar el menú\n",
        "Aquí es donde iniciamos el programa.  \n",
        "Cuando corras esta celda, aparecerá el menú interactivo y podrás usar todas las funciones que creaste.\n"
      ],
      "metadata": {
        "id": "Glef_5ArpB3h"
      }
    },
    {
      "cell_type": "code",
      "source": [
        "menu()\n",
        "# Llamamos a la función 'menu' para iniciar el programa interactivo\n",
        "# Desde este punto, el usuario podrá agregar, ver, buscar contactos o salir"
      ],
      "metadata": {
        "id": "gvAyRk52pCoc"
      },
      "execution_count": null,
      "outputs": []
    },
    {
      "cell_type": "code",
      "source": [
        "# Importamos pandas para manejar los datos en forma de tablas\n",
        "import pandas as pd\n",
        "\n",
        "# Intentamos cargar un archivo CSV previamente guardado\n",
        "try:\n",
        "    df = pd.read_csv(\"agenda_contactos.csv\")\n",
        "    # Si el archivo existe, se lee y se carga en el DataFrame 'df'\n",
        "    print(\"Archivo CSV cargado exitosamente.\")\n",
        "except FileNotFoundError:\n",
        "    # Si el archivo no existe, se crea un DataFrame vacío con las columnas indicadas\n",
        "    df = pd.DataFrame(columns=['Nombre', 'Edad', 'Correo'])\n",
        "    print(\"No se encontró un archivo CSV. Se ha creado un DataFrame vacío.\")\n",
        "\n",
        "# ------------------------------------------\n",
        "# Función para agregar un nuevo contacto\n",
        "def agregar_contacto(df):\n",
        "    nombre = input(\"Ingrese el nombre: \")\n",
        "    # Pedimos al usuario el nombre del contacto\n",
        "    edad = input(\"Ingrese la edad: \")\n",
        "    # Pedimos la edad\n",
        "    correo = input(\"Ingrese el correo: \")\n",
        "    # Pedimos el correo electrónico\n",
        "\n",
        "    nuevo = {'Nombre': nombre, 'Edad': edad, 'Correo': correo}\n",
        "    # Creamos un diccionario con la información recibida\n",
        "\n",
        "    df = pd.concat([df, pd.DataFrame([nuevo])], ignore_index=True)\n",
        "    # Convertimos el diccionario a un DataFrame y lo agregamos al DataFrame existente\n",
        "    # 'ignore_index=True' hace que se reindexen las filas automáticamente\n",
        "\n",
        "    print(\"Contacto agregado correctamente.\")\n",
        "    return df\n",
        "    # Retornamos el DataFrame actualizado\n",
        "\n",
        "# ------------------------------------------\n",
        "# Función para mostrar todos los contactos\n",
        "def mostrar_contactos(df):\n",
        "    if df.empty:\n",
        "        # Comprobamos si el DataFrame está vacío\n",
        "        print(\"No hay contactos registrados.\")\n",
        "    else:\n",
        "        print(df)\n",
        "        # Mostramos la tabla completa en consola\n",
        "\n",
        "# ------------------------------------------\n",
        "# Función para buscar un contacto por nombre\n",
        "def buscar_contacto(df):\n",
        "    nombre = input(\"Ingrese el nombre a buscar: \")\n",
        "    # Solicitamos el nombre o parte del nombre a buscar\n",
        "\n",
        "    resultado = df[df['Nombre'].str.contains(nombre, case=False, na=False)]\n",
        "    # Filtramos el DataFrame para mostrar solo las filas que contienen ese nombre\n",
        "    # 'case=False' ignora mayúsculas/minúsculas, 'na=False' evita errores por valores vacíos\n",
        "\n",
        "    if resultado.empty:\n",
        "        print(\"No se encontró ningún contacto.\")\n",
        "    else:\n",
        "        print(resultado)\n",
        "        # Mostramos los resultados encontrados\n",
        "\n",
        "# ------------------------------------------\n",
        "# Función para eliminar un contacto\n",
        "def eliminar_contacto(df):\n",
        "    nombre = input(\"Ingrese el nombre del contacto a eliminar: \")\n",
        "    # Solicitamos el nombre o parte del nombre del contacto\n",
        "\n",
        "    resultado = df[df['Nombre'].str.contains(nombre, case=False, na=False)]\n",
        "    # Buscamos los contactos que coincidan con ese nombre\n",
        "\n",
        "    if resultado.empty:\n",
        "        print(\"No se encontró ningún contacto con ese nombre.\")\n",
        "    else:\n",
        "        print(resultado)\n",
        "        # Mostramos las coincidencias encontradas\n",
        "        index_a_eliminar = input(\"Ingrese el índice del contacto a eliminar (ver columna de índice): \")\n",
        "        # Pedimos al usuario que ingrese el índice exacto de la fila que quiere eliminar\n",
        "\n",
        "        if index_a_eliminar.isdigit() and int(index_a_eliminar) in df.index:\n",
        "            # Verificamos que el índice ingresado sea un número válido y exista en el DataFrame\n",
        "            df = df.drop(int(index_a_eliminar))\n",
        "            # Eliminamos la fila con ese índice\n",
        "            df = df.reset_index(drop=True)\n",
        "            # Reordenamos los índices para mantenerlos consecutivos\n",
        "            print(\"Contacto eliminado exitosamente.\")\n",
        "        else:\n",
        "            print(\"Índice inválido.\")\n",
        "            # Si el índice no es válido, se muestra un mensaje de error\n",
        "    return df\n",
        "    # Retornamos el DataFrame modificado\n",
        "\n",
        "# ------------------------------------------\n",
        "# Función para editar un contacto\n",
        "def editar_contacto(df):\n",
        "    nombre = input(\"Ingrese el nombre del contacto a editar: \")\n",
        "    # Solicitamos el nombre o parte del nombre del contacto\n",
        "\n",
        "    resultado = df[df['Nombre'].str.contains(nombre, case=False, na=False)]\n",
        "    # Buscamos las coincidencias\n",
        "\n",
        "    if resultado.empty:\n",
        "        print(\"No se encontró ningún contacto con ese nombre.\")\n",
        "    else:\n",
        "        print(resultado)\n",
        "        # Mostramos las coincidencias encontradas\n",
        "        index_a_editar = input(\"Ingrese el índice del contacto a editar (ver columna de índice): \")\n",
        "        # Pedimos al usuario que indique qué fila desea editar\n",
        "\n",
        "        if index_a_editar.isdigit() and int(index_a_editar) in df.index:\n",
        "            # Verificamos que el índice ingresado sea válido\n",
        "            nuevo_nombre = input(\"Ingrese el nuevo nombre (deje vacío para no modificar): \")\n",
        "            nueva_edad = input(\"Ingrese la nueva edad (deje vacío para no modificar): \")\n",
        "            nuevo_correo = input(\"Ingrese el nuevo correo (deje vacío para no modificar): \")\n",
        "            # Solicitamos nuevos datos; si se dejan vacíos, se conserva el valor anterior\n",
        "\n",
        "            if nuevo_nombre:\n",
        "                df.at[int(index_a_editar), 'Nombre'] = nuevo_nombre\n",
        "                # Si el usuario ingresó un nuevo nombre, actualizamos ese campo\n",
        "            if nueva_edad:\n",
        "                df.at[int(index_a_editar), 'Edad'] = nueva_edad\n",
        "                # Actualizamos la edad si se ingresó un nuevo valor\n",
        "            if nuevo_correo:\n",
        "                df.at[int(index_a_editar), 'Correo'] = nuevo_correo\n",
        "                # Actualizamos el correo si se ingresó uno nuevo\n",
        "\n",
        "            print(\"Contacto editado exitosamente.\")\n",
        "        else:\n",
        "            print(\"Índice inválido.\")\n",
        "            # Mostramos un mensaje si el índice no es válido\n",
        "    return df\n",
        "    # Retornamos el DataFrame modificado\n",
        "\n",
        "# ------------------------------------------\n",
        "# Función para guardar los contactos en un archivo CSV\n",
        "def guardar_contactos(df):\n",
        "    nombre_archivo = input(\"Ingrese el nombre del archivo para guardar (sin extensión): \")\n",
        "    # Solicitamos el nombre del archivo\n",
        "\n",
        "    nombre_archivo_completo = nombre_archivo + \".csv\"\n",
        "    # Agregamos la extensión '.csv'\n",
        "\n",
        "    df.to_csv(nombre_archivo_completo, index=False)\n",
        "    # Guardamos el DataFrame en formato CSV sin incluir el índice\n",
        "\n",
        "    print(f\"Los contactos han sido guardados en '{nombre_archivo_completo}'.\")\n",
        "\n",
        "# ------------------------------------------\n",
        "# Menú interactivo que llama todas las funciones\n",
        "def menu():\n",
        "    global df\n",
        "    while True:\n",
        "        print(\"\\n--- MENÚ DE CONTACTOS ---\")\n",
        "        print(\"1. Agregar contacto\")\n",
        "        print(\"2. Ver todos los contactos\")\n",
        "        print(\"3. Buscar contacto\")\n",
        "        print(\"4. Eliminar contacto\")\n",
        "        print(\"5. Editar contacto\")\n",
        "        print(\"6. Guardar contactos en CSV\")\n",
        "        print(\"7. Salir\")\n",
        "\n",
        "        opcion = input(\"Seleccione una opción (1, 2, 3, 4, 5, 6, 7): \")\n",
        "        # Solicitamos la opción al usuario\n",
        "\n",
        "        if opcion == '1':\n",
        "            df = agregar_contacto(df)\n",
        "        elif opcion == '2':\n",
        "            mostrar_contactos(df)\n",
        "        elif opcion == '3':\n",
        "            buscar_contacto(df)\n",
        "        elif opcion == '4':\n",
        "            df = eliminar_contacto(df)\n",
        "        elif opcion == '5':\n",
        "            df = editar_contacto(df)\n",
        "        elif opcion == '6':\n",
        "            guardar_contactos(df)\n",
        "        elif opcion == '7':\n",
        "            print(\"Gracias por usar la agenda. Hasta pronto.\")\n",
        "            break\n",
        "        else:\n",
        "            print(\"Opción inválida, intente de nuevo.\")\n",
        "\n",
        "# ------------------------------------------\n",
        "# Ejecutamos el menú para comenzar la aplicación\n",
        "menu()\n"
      ],
      "metadata": {
        "colab": {
          "base_uri": "https://localhost:8080/"
        },
        "id": "MOHv0dRuvpLW",
        "outputId": "d6f3c091-d86a-417d-a896-3dc3a0d148e9"
      },
      "execution_count": null,
      "outputs": [
        {
          "output_type": "stream",
          "name": "stdout",
          "text": [
            "No se encontró un archivo CSV. Se ha creado un DataFrame vacío.\n",
            "\n",
            "--- MENÚ DE CONTACTOS ---\n",
            "1. Agregar contacto\n",
            "2. Ver todos los contactos\n",
            "3. Buscar contacto\n",
            "4. Eliminar contacto\n",
            "5. Editar contacto\n",
            "6. Guardar contactos en CSV\n",
            "7. Salir\n",
            "Seleccione una opción (1, 2, 3, 4, 5, 6, 7): 7\n",
            "Gracias por usar la agenda. Hasta pronto.\n"
          ]
        }
      ]
    }
  ]
}