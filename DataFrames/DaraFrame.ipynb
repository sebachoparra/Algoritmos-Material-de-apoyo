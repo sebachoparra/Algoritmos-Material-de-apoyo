{
  "nbformat": 4,
  "nbformat_minor": 0,
  "metadata": {
    "colab": {
      "provenance": [],
      "authorship_tag": "ABX9TyNjwKygenciwPP86VC3uPBg",
      "include_colab_link": true
    },
    "kernelspec": {
      "name": "python3",
      "display_name": "Python 3"
    },
    "language_info": {
      "name": "python"
    }
  },
  "cells": [
    {
      "cell_type": "markdown",
      "metadata": {
        "id": "view-in-github",
        "colab_type": "text"
      },
      "source": [
        "<a href=\"https://colab.research.google.com/github/sebachoparra/Resumen-semana-1-4/blob/main/DaraFrame.ipynb\" target=\"_parent\"><img src=\"https://colab.research.google.com/assets/colab-badge.svg\" alt=\"Open In Colab\"/></a>"
      ]
    },
    {
      "cell_type": "markdown",
      "source": [
        "# Notebook para aprender sobre DataFrames en Google Colab\n",
        "## 1. Introducción a DataFrames en Python\n",
        "\n",
        "### **Pandas** es una biblioteca esencial para el manejo y análisis de datos en Python. Su estructura principal es el `DataFrame`, una tabla bidimensional con etiquetas en las filas y columnas.\n",
        "\n",
        "## 2. Creación de DataFrames\n",
        "\n",
        "## **Desde un diccionario:**\n"
      ],
      "metadata": {
        "id": "R7mOzi1vz1pJ"
      }
    },
    {
      "cell_type": "code",
      "execution_count": 1,
      "metadata": {
        "id": "JbauLR8xzyOQ"
      },
      "outputs": [],
      "source": [
        "import pandas as pd\n",
        "\n",
        "datos = {\n",
        "    \"Nombre\": [\"Ana\", \"Luis\", \"Carlos\"],\n",
        "    \"Edad\": [23, 25, 22],\n",
        "    \"Ciudad\": [\"Bogotá\", \"Medellín\", \"Cali\"]\n",
        "}"
      ]
    },
    {
      "cell_type": "markdown",
      "source": [
        "## Crear un DataFrame desde un diccionario"
      ],
      "metadata": {
        "id": "LMuJFX2lz04t"
      }
    },
    {
      "cell_type": "code",
      "source": [
        "df2 = pd.DataFrame([\n",
        "    [\"Ana\", 23, \"Bogotá\"],\n",
        "    [\"Luis\", 25, \"Medellín\"],\n",
        "    [\"Carlos\", 22, \"Cali\"]\n",
        "], columns=[\"Nombre\", \"Edad\", \"Ciudad\"])\n",
        "print(df2)"
      ],
      "metadata": {
        "colab": {
          "base_uri": "https://localhost:8080/"
        },
        "id": "BXINpVAI0GIz",
        "outputId": "a8b801ca-daf9-456f-8296-dc3ace9e0d5a"
      },
      "execution_count": 16,
      "outputs": [
        {
          "output_type": "stream",
          "name": "stdout",
          "text": [
            "   Nombre  Edad    Ciudad\n",
            "0     Ana    23    Bogotá\n",
            "1    Luis    25  Medellín\n",
            "2  Carlos    22      Cali\n"
          ]
        }
      ]
    },
    {
      "cell_type": "markdown",
      "source": [
        "## 3. Operaciones Básicas con DataFrames\n",
        "\n",
        "## **Acceder a columnas:**"
      ],
      "metadata": {
        "id": "yw8IbPa-0KvB"
      }
    },
    {
      "cell_type": "code",
      "source": [
        "print(df2[\"Nombre\"])"
      ],
      "metadata": {
        "colab": {
          "base_uri": "https://localhost:8080/"
        },
        "id": "ud_P6tFi0NDL",
        "outputId": "ad4ff461-f396-4565-bdb1-4dbdf54eeb2b"
      },
      "execution_count": 4,
      "outputs": [
        {
          "output_type": "stream",
          "name": "stdout",
          "text": [
            "0       Ana\n",
            "1      Luis\n",
            "2    Carlos\n",
            "Name: Nombre, dtype: object\n"
          ]
        }
      ]
    },
    {
      "cell_type": "markdown",
      "source": [
        "# **Acceder a filas (loc e iloc):**\n",
        "#\n",
        "## - `loc[]` permite acceder a las filas usando etiquetas o nombres de índice.\n",
        "## - `iloc[]` permite acceder a las filas usando la posición numérica (índices enteros).\n",
        "\n",
        "## **Ejemplo:**"
      ],
      "metadata": {
        "id": "2YdxK_vl0WfJ"
      }
    },
    {
      "cell_type": "code",
      "source": [
        "print(df2.loc[1])  # Acceder a la fila con etiqueta 1 (nombre del índice)\n",
        "print(df2.iloc[1])  # Acceder a la segunda fila (posición 1 en la numeración interna de Pandas)"
      ],
      "metadata": {
        "colab": {
          "base_uri": "https://localhost:8080/"
        },
        "id": "aFQ9RYBU0XAn",
        "outputId": "27cc294b-aa12-4999-876b-370a50efd127"
      },
      "execution_count": 9,
      "outputs": [
        {
          "output_type": "stream",
          "name": "stdout",
          "text": [
            "Nombre        Luis\n",
            "Edad            25\n",
            "Ciudad    Medellín\n",
            "Name: 1, dtype: object\n",
            "Nombre        Luis\n",
            "Edad            25\n",
            "Ciudad    Medellín\n",
            "Name: 1, dtype: object\n"
          ]
        }
      ]
    },
    {
      "cell_type": "markdown",
      "source": [
        "## **Diferencias clave:**\n",
        "## - `loc[]` funciona con etiquetas, por lo que si el índice no es numérico (por ejemplo, nombres en lugar de números), se debe acceder con el nombre del índice.\n",
        "## - `iloc[]` siempre usa números enteros, sin importar el nombre del índice.\n",
        "## - `df.loc[1]` puede devolver error si el índice no es numérico y no existe una etiqueta `1`."
      ],
      "metadata": {
        "id": "D273DGcN1oPT"
      }
    },
    {
      "cell_type": "markdown",
      "source": [
        "## Cambiando el índice a la columna \"Nombre\""
      ],
      "metadata": {
        "id": "pS_3z_yl1xsM"
      }
    },
    {
      "cell_type": "code",
      "source": [
        "df2.set_index(\"Nombre\", inplace=True)\n",
        "print(df2.loc[\"Ana\"])  # Ahora se accede usando el nombre\n",
        "print(df2.iloc[0])  # Sigue funcionando con posición numérica"
      ],
      "metadata": {
        "colab": {
          "base_uri": "https://localhost:8080/"
        },
        "id": "n2MD5WeF1ywr",
        "outputId": "7e8dbb2d-531b-42e7-b6fb-0b2a00df90e0"
      },
      "execution_count": 10,
      "outputs": [
        {
          "output_type": "stream",
          "name": "stdout",
          "text": [
            "Edad          23\n",
            "Ciudad    Bogotá\n",
            "Name: Ana, dtype: object\n",
            "Edad          23\n",
            "Ciudad    Bogotá\n",
            "Name: Ana, dtype: object\n"
          ]
        }
      ]
    },
    {
      "cell_type": "code",
      "source": [
        "print(df2)"
      ],
      "metadata": {
        "colab": {
          "base_uri": "https://localhost:8080/"
        },
        "id": "7COnsOiE17P5",
        "outputId": "4297f099-fd57-4e2c-a219-5348f6fdd85d"
      },
      "execution_count": 11,
      "outputs": [
        {
          "output_type": "stream",
          "name": "stdout",
          "text": [
            "        Edad    Ciudad\n",
            "Nombre                \n",
            "Ana       23    Bogotá\n",
            "Luis      25  Medellín\n",
            "Carlos    22      Cali\n"
          ]
        }
      ]
    },
    {
      "cell_type": "markdown",
      "source": [
        "## 4. Filtrado de Datos y Modificación de DataFrames\n",
        "\n",
        "## **Filtrar por condición:**"
      ],
      "metadata": {
        "id": "DpI690Ky1-X7"
      }
    },
    {
      "cell_type": "code",
      "source": [
        "filtro = df2[df2[\"Edad\"] > 23]\n",
        "print(filtro)"
      ],
      "metadata": {
        "colab": {
          "base_uri": "https://localhost:8080/"
        },
        "id": "UL0AJ4dU19kB",
        "outputId": "7dddf698-d5ae-4f7b-b5ea-b71d00101cbb"
      },
      "execution_count": 12,
      "outputs": [
        {
          "output_type": "stream",
          "name": "stdout",
          "text": [
            "        Edad    Ciudad\n",
            "Nombre                \n",
            "Luis      25  Medellín\n"
          ]
        }
      ]
    },
    {
      "cell_type": "markdown",
      "source": [
        " **Filtrar múltiples condiciones:**"
      ],
      "metadata": {
        "id": "PMuqEv852GZF"
      }
    },
    {
      "cell_type": "code",
      "source": [
        "filtro2 = df2[(df2[\"Edad\"] > 22) & (df2[\"Ciudad\"] == \"Medellín\")]\n",
        "print(filtro2)"
      ],
      "metadata": {
        "colab": {
          "base_uri": "https://localhost:8080/"
        },
        "id": "Ex2OvOTL2FHV",
        "outputId": "a9ebfc29-c36e-4abf-f858-2495717b2cbc"
      },
      "execution_count": 13,
      "outputs": [
        {
          "output_type": "stream",
          "name": "stdout",
          "text": [
            "        Edad    Ciudad\n",
            "Nombre                \n",
            "Luis      25  Medellín\n"
          ]
        }
      ]
    },
    {
      "cell_type": "markdown",
      "source": [
        "## **Agregar nuevas filas al DataFrame:**"
      ],
      "metadata": {
        "id": "aaAtox6X4Uyl"
      }
    },
    {
      "cell_type": "code",
      "source": [
        "nueva_fila = {\"Nombre\": \"María\", \"Edad\": 27, \"Ciudad\": \"Cartagena\"}\n",
        "df2 = df2.append(nueva_fila, ignore_index=True)\n",
        "print(df2)"
      ],
      "metadata": {
        "id": "bTuxxnc44QpR"
      },
      "execution_count": null,
      "outputs": []
    },
    {
      "cell_type": "markdown",
      "source": [
        "## **Modificar valores de una fila específica:**"
      ],
      "metadata": {
        "id": "bvFucC8o4WA9"
      }
    },
    {
      "cell_type": "code",
      "source": [
        "df2.loc[2, \"Edad\"] = 30  # Cambiar la edad de la persona en la fila con índice 2\n",
        "print(df2)"
      ],
      "metadata": {
        "id": "_XlpZo494YK0"
      },
      "execution_count": null,
      "outputs": []
    },
    {
      "cell_type": "markdown",
      "source": [
        "## **Eliminar una fila:**"
      ],
      "metadata": {
        "id": "JTAa7Zid4hJV"
      }
    },
    {
      "cell_type": "code",
      "source": [
        "df = df.drop(index=1)  # Eliminar la fila con índice 1\n",
        "print(df)"
      ],
      "metadata": {
        "id": "nQrh3XJb4iFp"
      },
      "execution_count": null,
      "outputs": []
    },
    {
      "cell_type": "markdown",
      "source": [
        "## **Eliminar una columna:**"
      ],
      "metadata": {
        "id": "ZG7JHrXA4kpx"
      }
    },
    {
      "cell_type": "code",
      "source": [
        "df = df.drop(columns=[\"Ciudad\"])  # Eliminar la columna \"Ciudad\"\n",
        "print(df)"
      ],
      "metadata": {
        "id": "4RdiP3V14kLt"
      },
      "execution_count": null,
      "outputs": []
    },
    {
      "cell_type": "markdown",
      "source": [
        "## 5. Agrupación y Agregación de Datos\n",
        "\n",
        "## **Agrupar por columna y calcular estadísticas:**"
      ],
      "metadata": {
        "id": "pCdfBUVG2PDV"
      }
    },
    {
      "cell_type": "code",
      "source": [
        "df_grupo = df2.groupby(\"Ciudad\")[\"Edad\"].mean()\n",
        "print(df_grupo)"
      ],
      "metadata": {
        "colab": {
          "base_uri": "https://localhost:8080/"
        },
        "id": "uLnPwrLk2QkG",
        "outputId": "cd55b038-030a-4758-f208-214564d5a08c"
      },
      "execution_count": 14,
      "outputs": [
        {
          "output_type": "stream",
          "name": "stdout",
          "text": [
            "Ciudad\n",
            "Bogotá      23.0\n",
            "Cali        22.0\n",
            "Medellín    25.0\n",
            "Name: Edad, dtype: float64\n"
          ]
        }
      ]
    },
    {
      "cell_type": "markdown",
      "source": [
        "## 6. Combinar DataFrames\n",
        "\n",
        "## **Concatenación:**"
      ],
      "metadata": {
        "id": "CHMMuv752Xfh"
      }
    },
    {
      "cell_type": "code",
      "source": [
        "df_extra = pd.DataFrame({\"Nombre\": [\"Paula\"], \"Edad\": [24], \"Ciudad\": [\"Cartagena\"]})\n",
        "df_concat = pd.concat([df2, df_extra], ignore_index=True)\n",
        "print(df_concat)"
      ],
      "metadata": {
        "colab": {
          "base_uri": "https://localhost:8080/"
        },
        "id": "jIXLzHZ72YID",
        "outputId": "4d07e7cd-bac6-43e3-c9d5-4fcd70b63578"
      },
      "execution_count": 17,
      "outputs": [
        {
          "output_type": "stream",
          "name": "stdout",
          "text": [
            "   Nombre  Edad     Ciudad\n",
            "0     Ana    23     Bogotá\n",
            "1    Luis    25   Medellín\n",
            "2  Carlos    22       Cali\n",
            "3   Paula    24  Cartagena\n"
          ]
        }
      ]
    },
    {
      "cell_type": "markdown",
      "source": [
        "**Unión por claves (merge):**"
      ],
      "metadata": {
        "id": "n1MNCcr12jVU"
      }
    },
    {
      "cell_type": "code",
      "source": [
        "notas = pd.DataFrame({\"Nombre\": [\"Ana\", \"Luis\", \"Carlos\"], \"Nota\": [4.5, 4.0, 3.8]})\n",
        "df_merged = df2.merge(notas, on=\"Nombre\")\n",
        "print(df_merged)"
      ],
      "metadata": {
        "colab": {
          "base_uri": "https://localhost:8080/"
        },
        "id": "qyQNeSSE2iga",
        "outputId": "05607fcc-774a-4e9f-b5be-c4e4474e60e7"
      },
      "execution_count": 18,
      "outputs": [
        {
          "output_type": "stream",
          "name": "stdout",
          "text": [
            "   Nombre  Edad    Ciudad  Nota\n",
            "0     Ana    23    Bogotá   4.5\n",
            "1    Luis    25  Medellín   4.0\n",
            "2  Carlos    22      Cali   3.8\n"
          ]
        }
      ]
    },
    {
      "cell_type": "markdown",
      "source": [
        "## 7. Funciones Aplicadas a DataFrames\n",
        "\n",
        "# **Aplicar una función a una columna:**"
      ],
      "metadata": {
        "id": "5Vcjo7H02pBV"
      }
    },
    {
      "cell_type": "code",
      "source": [
        "def categorizar_edad(edad):\n",
        "    return \"Adulto\" if edad >= 23 else \"Joven\"\n",
        "\n",
        "df2[\"Categoría\"] = df2[\"Edad\"].apply(categorizar_edad)\n",
        "print(df2)"
      ],
      "metadata": {
        "colab": {
          "base_uri": "https://localhost:8080/"
        },
        "id": "6-aRNtga2p0V",
        "outputId": "84a14fc5-4695-4691-b333-32b91474eb3d"
      },
      "execution_count": 20,
      "outputs": [
        {
          "output_type": "stream",
          "name": "stdout",
          "text": [
            "   Nombre  Edad    Ciudad Categoría\n",
            "0     Ana    23    Bogotá    Adulto\n",
            "1    Luis    25  Medellín    Adulto\n",
            "2  Carlos    22      Cali     Joven\n"
          ]
        }
      ]
    },
    {
      "cell_type": "code",
      "source": [],
      "metadata": {
        "id": "MQrO9Td14KuO"
      },
      "execution_count": null,
      "outputs": []
    },
    {
      "cell_type": "markdown",
      "source": [
        "## 8. Ejercicios Propuestos\n",
        "\n",
        "# **Ejercicio 1:** Crear un DataFrame con 5 estudiantes, incluyendo nombre, edad, ciudad y nota final.\n",
        "\n",
        "# **Ejercicio 2:** Filtrar los estudiantes con nota mayor a 4.0 y que tengan más de 20 años.\n",
        "\n",
        "# **Ejercicio 3:** Agregar una columna que indique si el estudiante aprobó o no (nota ≥ 3.0).\n",
        "\n",
        "# **Ejercicio 4:** Agrupar los datos por ciudad y calcular la edad promedio de los estudiantes de cada ciudad.\n",
        "\n",
        "# **Ejercicio 5:** Crear dos DataFrames de estudiantes y unirlos usando `concat` y `merge`.\n"
      ],
      "metadata": {
        "id": "jC-2MS5V3alM"
      }
    }
  ]
}