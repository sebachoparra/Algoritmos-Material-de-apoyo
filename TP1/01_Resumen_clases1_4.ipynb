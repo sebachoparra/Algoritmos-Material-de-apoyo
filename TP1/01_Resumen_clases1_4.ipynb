{
  "nbformat": 4,
  "nbformat_minor": 0,
  "metadata": {
    "colab": {
      "provenance": [],
      "authorship_tag": "ABX9TyNaAmCSUpqGFErp0wBK3TiS",
      "include_colab_link": true
    },
    "kernelspec": {
      "name": "python3",
      "display_name": "Python 3"
    },
    "language_info": {
      "name": "python"
    }
  },
  "cells": [
    {
      "cell_type": "markdown",
      "metadata": {
        "id": "view-in-github",
        "colab_type": "text"
      },
      "source": [
        "<a href=\"https://colab.research.google.com/github/sebachoparra/Resumen-semana-1-4/blob/main/TP1/01_Resumen_clases1_4.ipynb\" target=\"_parent\"><img src=\"https://colab.research.google.com/assets/colab-badge.svg\" alt=\"Open In Colab\"/></a>"
      ]
    },
    {
      "cell_type": "markdown",
      "source": [
        "# Notebook para aprender Python en Google Colab\n",
        "\n",
        "## 1. Introducción a la Programación en Python\n",
        "\n",
        "# **Python** es un lenguaje de programación versátil y fácil de aprender. En este notebook, aprenderás sobre:\n",
        "# - Condiciones y sentencias if-else\n",
        "# - Bucles (for y while)\n",
        "# - Funciones\n",
        "# - Estructuras de datos básicas\n",
        "\n",
        "# ---\n"
      ],
      "metadata": {
        "id": "OOZwXg7AP3w5"
      }
    },
    {
      "cell_type": "markdown",
      "source": [
        "\n",
        "## 2. Condiciones y Sentencias If-Else\n",
        "\n",
        "# **Explicación:**\n",
        "# En Python, las estructuras condicionales permiten tomar decisiones en el código.\n",
        "#\n",
        "# **Sintaxis básica:**\n",
        "$$\n",
        "\\begin{aligned}\n",
        "&\\text{if condicion:} \\\\\n",
        "&\\quad \\text{# Bloque de código si la condición es verdadera} \\\\\n",
        "&\\text{elif otra_condicion:} \\\\\n",
        "&\\quad \\text{# Otro bloque de código si la segunda condición es verdadera} \\\\\n",
        "&\\text{else:} \\\\\n",
        "&\\quad \\text{# Bloque de código si ninguna condición es verdadera}\n",
        "\\end{aligned}\n",
        "$$"
      ],
      "metadata": {
        "id": "sfKFvkLVQBX6"
      }
    },
    {
      "cell_type": "code",
      "source": [
        "numero = int(input(\"Ingresa un número: \"))\n",
        "if numero > 0:\n",
        "    print(\"El número es positivo.\")\n",
        "elif numero < 0:\n",
        "    print(\"El número es negativo.\")\n",
        "else:\n",
        "    print(\"El número es cero.\")"
      ],
      "metadata": {
        "id": "6aE5lyg7WPfs"
      },
      "execution_count": null,
      "outputs": []
    },
    {
      "cell_type": "markdown",
      "source": [
        "## 3. Bucles en Python\n",
        "\n",
        "# **Explicación:**\n",
        "# Los bucles nos permiten ejecutar un bloque de código varias veces.\n",
        "#\n",
        "# - **Bucle for**: Se usa cuando sabemos cuántas veces queremos repetir algo.\n",
        "# - **Bucle while**: Se usa cuando no sabemos cuántas veces se repetirá la ejecución.\n",
        "#\n",
        "$$\n",
        "\\sum_{i=1}^{n} i = \\frac{n(n+1)}{2}\n",
        "$$"
      ],
      "metadata": {
        "id": "WbQ0nvYjWZQq"
      }
    },
    {
      "cell_type": "code",
      "source": [
        "# Ejemplo con `for`\n",
        "print(\"Números del 1 al 5:\")\n",
        "for i in range(1, 6):\n",
        "    print(i)"
      ],
      "metadata": {
        "id": "w_KUtoAfWY3Y"
      },
      "execution_count": null,
      "outputs": []
    },
    {
      "cell_type": "code",
      "source": [
        "# Ejemplo con `while`\n",
        "contador = 1\n",
        "while contador <= 5:\n",
        "    print(f\"Contador: {contador}\")\n",
        "    contador += 1"
      ],
      "metadata": {
        "id": "YywawALmWfZM"
      },
      "execution_count": null,
      "outputs": []
    },
    {
      "cell_type": "code",
      "source": [
        "suma = 0\n",
        "for i in range(1, 11):\n",
        "    suma += i\n",
        "print(\"La suma de los primeros 10 números\")"
      ],
      "metadata": {
        "id": "nRpeSJeHWftS"
      },
      "execution_count": null,
      "outputs": []
    },
    {
      "cell_type": "markdown",
      "source": [
        "## 4. Funciones en Python\n",
        "\n",
        "# **Explicación:**\n",
        "# Las funciones nos permiten organizar el código en bloques reutilizables.\n",
        "#\n",
        "# **Sintaxis básica:**\n",
        "$$\n",
        "\\begin{aligned}\n",
        "&\\text{def nombre_funcion(parametros):} \\\\\n",
        "&\\quad \\text{# Bloque de código} \\\\\n",
        "&\\quad \\text{return resultado}\n",
        "\\end{aligned}\n",
        "$$"
      ],
      "metadata": {
        "id": "mqnrSEeAWxzz"
      }
    },
    {
      "cell_type": "code",
      "source": [
        "def verificar_numero(numero):\n",
        "  if numero > 0:\n",
        "      return\"El número es positivo.\"\n",
        "  elif numero < 0:\n",
        "      print(\"El número es negativo.\")\n",
        "  else:\n",
        "      print(\"El número es cero.\")"
      ],
      "metadata": {
        "id": "g2QgN01_bD6z"
      },
      "execution_count": null,
      "outputs": []
    },
    {
      "cell_type": "code",
      "source": [
        "N = int(input(\"Ingresa un número: \"))\n",
        "verificar_numero(N)"
      ],
      "metadata": {
        "id": "8B6kZIVfEsS3"
      },
      "execution_count": null,
      "outputs": []
    },
    {
      "cell_type": "markdown",
      "source": [
        "## 5. Estructuras de Datos en Python\n",
        "\n",
        "# **Explicación:**\n",
        "# Python tiene varias estructuras de datos integradas:\n",
        "# - **Listas**: Colección ordenada y modificable\n",
        "# - **Tuplas**: Colección ordenada e inmutable\n",
        "# - **Diccionarios**: Colección de pares clave-valor\n",
        "# - **Conjuntos**: Colección desordenada de elementos únicos\n",
        "#\n",
        "# En Google Colab, podemos escribir fórmulas en LaTeX usando Markdown:\n",
        "$$\n",
        "\\text{Lista de frutas:}\\ \\{\\text{manzana, banana, cereza}\\}\n",
        "$$"
      ],
      "metadata": {
        "id": "F9nrbilpW6uH"
      }
    },
    {
      "cell_type": "code",
      "source": [
        "# Lista\n",
        "tfrutas = [\"manzana\", \"banana\", \"cereza\"]\n",
        "print(\"Lista de frutas:\", tfrutas)"
      ],
      "metadata": {
        "id": "yqoRxVG5W6RL"
      },
      "execution_count": null,
      "outputs": []
    },
    {
      "cell_type": "code",
      "source": [
        "# Diccionario\n",
        "persona = {\"nombre\": \"Ana\", \"edad\": 25}\n",
        "print(\"Diccionario de persona:\", persona)"
      ],
      "metadata": {
        "id": "UIT9UAoRXAfA"
      },
      "execution_count": null,
      "outputs": []
    },
    {
      "cell_type": "code",
      "source": [
        "numeros = [10, 20, 30, 40, 50]\n",
        "promedio = sum(numeros) / len(numeros)\n",
        "print(\"El promedio de los números es:\", promedio)"
      ],
      "metadata": {
        "id": "6WAfM01fXAwd"
      },
      "execution_count": null,
      "outputs": []
    },
    {
      "cell_type": "markdown",
      "source": [
        "## 6. Arreglos y Álgebra Lineal en Python\n",
        "\n",
        "# **Explicación:**\n",
        "# En Python, los arreglos se manejan generalmente con la biblioteca `numpy`, la cual permite trabajar con datos multidimensionales de manera eficiente.\n",
        "#\n",
        "# **Declaración de un arreglo en NumPy:**\n",
        "```python\n",
        "import numpy as np\n",
        "\n",
        "# Crear un arreglo unidimensional\n",
        "arr = np.array([1, 2, 3, 4, 5])\n",
        "print(arr)\n",
        "\n",
        "# Crear una matriz 3x3\n",
        "matriz = np.array([[1, 2, 3], [4, 5, 6], [7, 8, 9]])\n",
        "print(matriz)\n",
        "```\n",
        "\n",
        "# **Operaciones de Álgebra Lineal:**\n",
        "# Podemos realizar operaciones como suma, resta, multiplicación de matrices y obtención de determinantes con NumPy.\n",
        "$$\n",
        "\\mathbf{A} = \\begin{bmatrix}1 & 2 \\\\ 3 & 4\\end{bmatrix}, \\quad \\mathbf{B} = \\begin{bmatrix}5 & 6 \\\\ 7 & 8\\end{bmatrix}\n",
        "$$\n",
        "\n",
        "```python\n",
        "# Definir matrices en NumPy\n",
        "A = np.array([[1, 2], [3, 4]])\n",
        "B = np.array([[5, 6], [7, 8]])\n",
        "\n",
        "# Multiplicación de matrices\n",
        "C = np.dot(A, B)\n",
        "print(\"Producto de A y B:\", C)\n",
        "\n",
        "# Determinante de una matriz\n",
        "det_A = np.linalg.det(A)\n",
        "print(\"Determinante de A:\", det_A)\n",
        "```\n",
        "\n",
        "# Estas operaciones son fundamentales en el análisis de datos y el aprendizaje automático.\n",
        "\n",
        "# ---"
      ],
      "metadata": {
        "id": "Jud70Q17XI4S"
      }
    },
    {
      "cell_type": "markdown",
      "source": [
        "# **Ejercicio 1: Clasificación de Números**\n",
        "$$\n",
        "\\text{Escribe un programa que reciba un número entero del usuario y determine si es:}\n",
        "$$\n",
        "$$\n",
        "\\begin{array}{ll}\n",
        "\\text{- Positivo y par} \\\\\n",
        "\\text{- Positivo e impar} \\\\\n",
        "\\text{- Negativo} \\\\\n",
        "\\text{- Cero}\n",
        "\\end{array}\n",
        "$$\n",
        "\n",
        "# **Ejercicio 2: Calculadora de Descuentos**\n",
        "$$\n",
        "\\text{Crea un programa que solicite al usuario el precio de un producto y aplique los siguientes descuentos:}\n",
        "$$\n",
        "$$\n",
        "\\begin{array}{ll}\n",
        "\\text{- Si el precio es mayor a 100, aplica un 10\\% de descuento.} \\\\\n",
        "\\text{- Si el precio está entre 50 y 100, aplica un 5\\% de descuento.} \\\\\n",
        "\\text{- Si el precio es menor a 50, no aplica descuento.}\n",
        "\\end{array}\n",
        "$$\n",
        "\n",
        "# **Ejercicio 3: Suma de Números Pares**\n",
        "$$\n",
        "\\text{Escribe un programa que sume todos los números pares del 1 al 100 usando un bucle for.}\n",
        "$$\n",
        "\n",
        "# **Ejercicio 4: Adivina el Número**\n",
        "$$\n",
        "\\text{Crea un programa donde la computadora elija un número aleatorio entre 1 y 50. Luego, el usuario debe adivinarlo.} \\\\\n",
        "\\text{El programa debe dar pistas:} \\\\\n",
        "\\text{- “El número es mayor” si el número ingresado es menor.} \\\\\n",
        "\\text{- “El número es menor” si el número ingresado es mayor.} \\\\\n",
        "\\text{- “¡Felicidades! Has adivinado el número” cuando el usuario acierte.}\n",
        "$$\n",
        "\n",
        "# **Ejercicio 5: Cálculo del Factorial**\n",
        "$$\n",
        "\\text{Define una función que reciba un número entero y devuelva su factorial. Usa recursión o un bucle for.}\n",
        "$$\n",
        "\n",
        "# **Ejercicio 6: Conversor de Temperatura**\n",
        "$$\n",
        "\\text{Crea una función que convierta grados Celsius a Fahrenheit y otra que haga la conversión inversa.}\n",
        "$$\n",
        "$$\n",
        "F = C \\times \\frac{9}{5} + 32, \\quad C = (F - 32) \\times \\frac{5}{9}\n",
        "$$\n",
        "\n",
        "# **Ejercicio 7: Gestión de Contactos**\n",
        "$$\n",
        "\\text{Crea un diccionario que almacene nombres y números de teléfono. Implementa un menú con las siguientes opciones:}\n",
        "$$\n",
        "$$\n",
        "\\begin{array}{ll}\n",
        "\\text{1. Agregar un contacto} \\\\\n",
        "\\text{2. Eliminar un contacto} \\\\\n",
        "\\text{3. Buscar un contacto} \\\\\n",
        "\\text{4. Mostrar todos los contactos}\n",
        "\\end{array}\n",
        "$$\n",
        "\n",
        "# **Ejercicio 8: Análisis de Listas**\n",
        "$$\n",
        "\\text{Crea un programa que reciba una lista de números ingresados por el usuario y devuelva:}\n",
        "$$\n",
        "$$\n",
        "\\begin{array}{ll}\n",
        "\\text{- La cantidad de números en la lista} \\\\\n",
        "\\text{- El número más grande y el más pequeño} \\\\\n",
        "\\text{- El promedio de los números}\n",
        "\\end{array}\n",
        "$$\n",
        "\n",
        "# **Ejercicio 9: Operaciones con Matrices**\n",
        "$$\n",
        "\\text{Usando NumPy, crea un programa que:}\n",
        "$$\n",
        "$$\n",
        "\\begin{array}{ll}\n",
        "\\text{1. Genere dos matrices } 3 \\times 3 \\text{ aleatorias con números enteros del 1 al 10.} \\\\\n",
        "\\text{2. Calcule su suma y su producto matricial.} \\\\\n",
        "\\text{3. Obtenga la matriz traspuesta de una de ellas.}\n",
        "\\end{array}\n",
        "$$\n",
        "\n",
        "# **Ejercicio 10: Determinante e Inversa de una Matriz**\n",
        "$$\n",
        "\\text{Crea un programa que:}\n",
        "$$\n",
        "$$\n",
        "\\begin{array}{ll}\n",
        "\\text{1. Pida al usuario los valores de una matriz } 2 \\times 2. \\\\\n",
        "\\text{2. Calcule su determinante.} \\\\\n",
        "\\text{3. Si el determinante es diferente de 0, calcule su matriz inversa.}\n",
        "\\end{array}\n",
        "$$\n",
        "\n",
        "# ---\n"
      ],
      "metadata": {
        "id": "HEuS_fyIyHEP"
      }
    }
  ]
}